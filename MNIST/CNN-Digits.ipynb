{
 "cells": [
  {
   "cell_type": "code",
   "execution_count": 26,
   "metadata": {},
   "outputs": [],
   "source": [
    "from __future__ import absolute_import\n",
    "from __future__ import division\n",
    "from __future__ import print_function\n",
    "\n",
    "import glob\n",
    "import math\n",
    "import os\n",
    "\n",
    "from IPython import display\n",
    "from matplotlib import cm\n",
    "from matplotlib import gridspec\n",
    "from matplotlib import pyplot as plt\n",
    "import numpy as np\n",
    "import pandas as pd\n",
    "import seaborn as sns\n",
    "from sklearn import metrics\n",
    "import tensorflow as tf\n",
    "from tensorflow.python.data import Dataset\n",
    "\n",
    "tf.logging.set_verbosity(tf.logging.ERROR)\n",
    "pd.options.display.max_rows = 10\n",
    "pd.options.display.float_format = '{:.1f}'.format\n",
    "\n",
    "df_train = pd.read_csv(\"../train.csv\", sep = \",\")\n",
    "df_test = pd.read_csv(\"../test.csv\", sep = \",\")\n",
    "df_sample = pd.read_csv('../sample_submission.csv', sep = \",\")\n",
    "\n",
    "df_train = df_train.reindex(np.random.permutation(df_train.index))\n",
    "\n",
    "df_test = df_test / 255\n"
   ]
  },
  {
   "cell_type": "code",
   "execution_count": 27,
   "metadata": {},
   "outputs": [
    {
     "data": {
      "text/plain": [
       "1    4684\n",
       "7    4401\n",
       "3    4351\n",
       "9    4188\n",
       "2    4177\n",
       "6    4137\n",
       "0    4132\n",
       "4    4072\n",
       "8    4063\n",
       "5    3795\n",
       "Name: label, dtype: int64"
      ]
     },
     "execution_count": 27,
     "metadata": {},
     "output_type": "execute_result"
    },
    {
     "data": {
      "image/png": "[encoded data removed]",
      "text/plain": [
       "<Figure size 432x288 with 1 Axes>"
      ]
     },
     "metadata": {},
     "output_type": "display_data"
    }
   ],
   "source": [
    "Y_train = df_train[\"label\"]\n",
    "g = sns.countplot(Y_train)\n",
    "Y_train.value_counts()"
   ]
  },
  {
   "cell_type": "code",
   "execution_count": 28,
   "metadata": {},
   "outputs": [
    {
     "data": {
      "text/plain": [
       "count       784\n",
       "unique        1\n",
       "top       False\n",
       "freq        784\n",
       "dtype: object"
      ]
     },
     "execution_count": 28,
     "metadata": {},
     "output_type": "execute_result"
    }
   ],
   "source": [
    "df_test.isnull().any().describe()"
   ]
  },
  {
   "cell_type": "code",
   "execution_count": 29,
   "metadata": {},
   "outputs": [],
   "source": [
    "def parse_labels_and_features(dataset):\n",
    "    labels = dataset.iloc[:,0]\n",
    "    features = dataset.iloc[:,1:785]\n",
    "    features = features / 255\n",
    "    return features.values, labels.values,"
   ]
  },
  {
   "cell_type": "code",
   "execution_count": 30,
   "metadata": {},
   "outputs": [],
   "source": [
    "train_data, train_labels = parse_labels_and_features(df_train.head(32000))\n",
    "train_labels = np.asarray(train_labels, dtype=np.int32)\n"
   ]
  },
  {
   "cell_type": "code",
   "execution_count": 31,
   "metadata": {},
   "outputs": [],
   "source": [
    "eval_data, eval_labels = parse_labels_and_features(df_train.tail(10000))\n",
    "eval_labels = np.asarray(eval_labels, dtype=np.int32)\n"
   ]
  },
  {
   "cell_type": "code",
   "execution_count": 32,
   "metadata": {},
   "outputs": [],
   "source": [
    "# Training Parameters\n",
    "learning_rate = 0.001\n",
    "num_steps = 200\n",
    "batch_size = 128\n",
    "\n",
    "# Network Parameters\n",
    "num_input = 784 # MNIST data input (img shape: 28*28)\n",
    "num_classes = 10 # MNIST total classes (0-9 digits)\n",
    "dropout = 0.25 # Dropout, probability to drop a unit"
   ]
  },
  {
   "cell_type": "code",
   "execution_count": 33,
   "metadata": {},
   "outputs": [],
   "source": [
    "# Create the neural network\n",
    "def conv_net(x_dict, n_classes, dropout, reuse, is_training):\n",
    "    # Define a scope for reusing the variables\n",
    "    with tf.variable_scope('ConvNet', reuse=reuse):\n",
    "        # TF Estimator input is a dict, in case of multiple inputs\n",
    "        x = x_dict['images']\n",
    "\n",
    "        # MNIST data input is a 1-D vector of 784 features (28*28 pixels)\n",
    "        # Reshape to match picture format [Height x Width x Channel]\n",
    "        # Tensor input become 4-D: [Batch Size, Height, Width, Channel]\n",
    "        x = tf.reshape(x, shape=[-1, 28, 28, 1])\n",
    "\n",
    "        # Convolution Layer with 32 filters and a kernel size of 5\n",
    "        conv1 = tf.layers.conv2d(x, 32, 5, activation=tf.nn.relu)\n",
    "        # Max Pooling (down-sampling) with strides of 2 and kernel size of 2\n",
    "        conv1 = tf.layers.max_pooling2d(conv1, 2, 2)\n",
    "\n",
    "        # Convolution Layer with 64 filters and a kernel size of 3\n",
    "        conv2 = tf.layers.conv2d(conv1, 64, 3, activation=tf.nn.relu)\n",
    "        # Max Pooling (down-sampling) with strides of 2 and kernel size of 2\n",
    "        conv2 = tf.layers.max_pooling2d(conv2, 2, 2)\n",
    "\n",
    "        # Flatten the data to a 1-D vector for the fully connected layer\n",
    "        fc1 = tf.contrib.layers.flatten(conv2)\n",
    "\n",
    "        # Fully connected layer (in tf contrib folder for now)\n",
    "        fc1 = tf.layers.dense(fc1, 1024)\n",
    "        # Apply Dropout (if is_training is False, dropout is not applied)\n",
    "        fc1 = tf.layers.dropout(fc1, rate=dropout, training=is_training)\n",
    "\n",
    "        # Output layer, class prediction\n",
    "        out = tf.layers.dense(fc1, n_classes)\n",
    "\n",
    "    return out\n"
   ]
  },
  {
   "cell_type": "code",
   "execution_count": 34,
   "metadata": {},
   "outputs": [],
   "source": [
    "# Define the model function (following TF Estimator Template)\n",
    "def model_fn(features, labels, mode):\n",
    "    # Build the neural network\n",
    "    # Because Dropout have different behavior at training and prediction time, we\n",
    "    # need to create 2 distinct computation graphs that still share the same weights.\n",
    "    logits_train = conv_net(features, num_classes, dropout, reuse=False,\n",
    "                            is_training=True)\n",
    "    logits_test = conv_net(features, num_classes, dropout, reuse=True,\n",
    "                           is_training=False)\n",
    "\n",
    "    # Predictions\n",
    "    pred_classes = tf.argmax(logits_test, axis=1)\n",
    "    pred_probas = tf.nn.softmax(logits_test)\n",
    "\n",
    "    # If prediction mode, early return\n",
    "    if mode == tf.estimator.ModeKeys.PREDICT:\n",
    "        return tf.estimator.EstimatorSpec(mode, predictions=pred_classes)\n",
    "\n",
    "        # Define loss and optimizer\n",
    "    loss_op = tf.reduce_mean(tf.nn.sparse_softmax_cross_entropy_with_logits(\n",
    "        logits=logits_train, labels=tf.cast(labels, dtype=tf.int32)))\n",
    "    optimizer = tf.train.AdamOptimizer(learning_rate=learning_rate)\n",
    "    train_op = optimizer.minimize(loss_op,\n",
    "                                  global_step=tf.train.get_global_step())\n",
    "\n",
    "    # Evaluate the accuracy of the model\n",
    "    acc_op = tf.metrics.accuracy(labels=labels, predictions=pred_classes)\n",
    "\n",
    "    # TF Estimators requires to return a EstimatorSpec, that specify\n",
    "    # the different ops for training, evaluating, ...\n",
    "    estim_specs = tf.estimator.EstimatorSpec(\n",
    "        mode=mode,\n",
    "        predictions=pred_classes,\n",
    "        loss=loss_op,\n",
    "        train_op=train_op,\n",
    "        eval_metric_ops={'accuracy': acc_op})\n",
    "\n",
    "    return estim_specs"
   ]
  },
  {
   "cell_type": "code",
   "execution_count": 35,
   "metadata": {},
   "outputs": [],
   "source": [
    "def train_cnn_classification_model(\n",
    "    learning_rate,\n",
    "    steps,\n",
    "    batch_size,\n",
    "    train_data,\n",
    "    train_labels,\n",
    "    eval_data,\n",
    "    eval_labels):\n",
    "\n",
    "        # Build the Estimator\n",
    "    model = tf.estimator.Estimator(model_fn, model_dir=\"./Savemodel\")\n",
    "\n",
    "    # Define the input function for training\n",
    "    input_fn = tf.estimator.inputs.numpy_input_fn(\n",
    "        x={'images': train_data}, y=train_labels,\n",
    "        batch_size=batch_size, num_epochs=None, shuffle=True)\n",
    "\n",
    "    # Define the input function for evaluating\n",
    "    eval_input_fn = tf.estimator.inputs.numpy_input_fn(\n",
    "        x={'images': eval_data}, y=eval_labels,\n",
    "        batch_size=batch_size, shuffle=False)\n",
    "    \n",
    "    predict_input_fn = tf.estimator.inputs.numpy_input_fn(\n",
    "        x = {'images': train_data},\n",
    "        batch_size=batch_size,\n",
    "        shuffle=False)\n",
    "\n",
    "    predict_eval_input_fn = tf.estimator.inputs.numpy_input_fn(\n",
    "        x = {'images': eval_data},\n",
    "        batch_size=batch_size,\n",
    "        shuffle=False)\n",
    "    # Create feature columns.\n",
    "    feature_columns = [tf.feature_column.numeric_column('pixels', shape=784)]\n",
    "\n",
    "    # Train the model, but do so inside a loop so that we can periodically assess\n",
    "    # loss metrics.\n",
    "    periods = 10\n",
    "    print(\"Training model...\")\n",
    "    print(\"LogLoss error (on validation data):\")\n",
    "    training_errors = []\n",
    "    validation_errors = []\n",
    "    for period in range (0, periods):\n",
    "        # Train the model, starting from the prior state.\n",
    "        model.train(input_fn, steps=steps)\n",
    "\n",
    "        train_pred = model.predict(predict_input_fn)\n",
    "        eval_pred = model.predict(predict_eval_input_fn)\n",
    "        train_pred = np.array([item for item in train_pred])\n",
    "        eval_pred  = np.array([item for item in eval_pred])\n",
    "\n",
    "\n",
    "        training_pred_one_hot = tf.keras.utils.to_categorical(train_pred,10)\n",
    "        validation_pred_one_hot = tf.keras.utils.to_categorical(eval_pred,10)    \n",
    "\n",
    "        training_log_loss = metrics.log_loss(train_labels, training_pred_one_hot)\n",
    "        validation_log_loss = metrics.log_loss(eval_labels, validation_pred_one_hot)\n",
    "        # Occasionally print the current loss.\n",
    "        print(\"  period %02d : %0.2f\" % (period, validation_log_loss))\n",
    "        # Add the loss metrics from this period to our list.\n",
    "        training_errors.append(training_log_loss)\n",
    "        validation_errors.append(validation_log_loss)\n",
    "\n",
    "    print(\"Model training finished.\")\n",
    "    # Calculate final predictions (not probabilities, as above).\n",
    "    final_predictions = model.predict(input_fn=predict_eval_input_fn)\n",
    "    final_predictions = np.array([item for item in final_predictions])\n",
    "\n",
    "\n",
    "    accuracy = metrics.accuracy_score(eval_labels, final_predictions)\n",
    "    print(\"Final accuracy (on validation data): %0.2f\" % accuracy)\n",
    "\n",
    "    # Output a graph of loss metrics over periods.\n",
    "    plt.ylabel(\"LogLoss\")\n",
    "    plt.xlabel(\"Periods\")\n",
    "    plt.title(\"LogLoss vs. Periods\")\n",
    "    plt.plot(training_errors, label=\"training\")\n",
    "    plt.plot(validation_errors, label=\"validation\")\n",
    "    plt.legend()\n",
    "    plt.show()\n",
    "    return model"
   ]
  },
  {
   "cell_type": "code",
   "execution_count": 36,
   "metadata": {},
   "outputs": [
    {
     "name": "stdout",
     "output_type": "stream",
     "text": [
      "Training model...\n",
      "LogLoss error (on validation data):\n",
      "  period 00 : 0.52\n",
      "  period 01 : 0.43\n",
      "  period 02 : 0.44\n",
      "  period 03 : 0.42\n",
      "  period 04 : 0.38\n",
      "  period 05 : 0.32\n",
      "  period 06 : 0.32\n",
      "  period 07 : 0.32\n",
      "  period 08 : 0.32\n",
      "  period 09 : 0.32\n",
      "Model training finished.\n",
      "Final accuracy (on validation data): 0.99\n"
     ]
    },
    {
     "data": {
      "image/png": "[encoded data removed]",
      "text/plain": [
       "<Figure size 432x288 with 1 Axes>"
      ]
     },
     "metadata": {},
     "output_type": "display_data"
    }
   ],
   "source": [
    "classifier = train_cnn_classification_model(\n",
    "    learning_rate=.005,\n",
    "    steps=1000,\n",
    "    batch_size=300,\n",
    "    train_data=train_data,\n",
    "    train_labels=train_labels,\n",
    "    eval_data=eval_data,\n",
    "    eval_labels=eval_labels)"
   ]
  },
  {
   "cell_type": "code",
   "execution_count": 37,
   "metadata": {},
   "outputs": [],
   "source": [
    "# # Build the Estimator\n",
    "# model = tf.estimator.Estimator(model_fn)\n",
    "\n",
    "# # Define the input function for training\n",
    "# input_fn = tf.estimator.inputs.numpy_input_fn(\n",
    "#     x={'images': train_data}, y=train_labels,\n",
    "#     batch_size=batch_size, num_epochs=None, shuffle=True)\n",
    "\n",
    "# # Define the input function for evaluating\n",
    "# eval_input_fn = tf.estimator.inputs.numpy_input_fn(\n",
    "#     x={'images': eval_data}, y=eval_labels,\n",
    "#     batch_size=batch_size, shuffle=False)\n",
    "\n",
    "# predict_input_fn = tf.estimator.inputs.numpy_input_fn(\n",
    "#     x = {'images': train_data},\n",
    "#     batch_size=batch_size,\n",
    "#     shuffle=False)\n",
    "    \n",
    "# predict_eval_input_fn = tf.estimator.inputs.numpy_input_fn(\n",
    "#     x = {'images': eval_data},\n",
    "#     batch_size=batch_size,\n",
    "#     shuffle=False)\n",
    "\n",
    "# # Train the Model\n",
    "# periods = 10\n",
    "# steps = num_steps / periods\n",
    "# print(\"Training model...\")\n",
    "# print(\"LogLoss error (on validation data):\")\n",
    "# training_errors = []\n",
    "# validation_errors = []\n",
    "# for period in range (0, periods):\n",
    "#     # Train the model, starting from the prior state.\n",
    "#     model.train(input_fn, steps=steps)\n",
    "    \n",
    "#     train_pred = model.predict(predict_input_fn)\n",
    "#     eval_pred = model.predict(predict_eval_input_fn)\n",
    "#     train_pred = np.array([item for item in train_pred])\n",
    "#     eval_pred  = np.array([item for item in eval_pred])\n",
    "\n",
    "        \n",
    "#     training_pred_one_hot = tf.keras.utils.to_categorical(train_pred,10)\n",
    "#     validation_pred_one_hot = tf.keras.utils.to_categorical(eval_pred,10)    \n",
    "\n",
    "#     training_log_loss = metrics.log_loss(train_labels, training_pred_one_hot)\n",
    "#     validation_log_loss = metrics.log_loss(eval_labels, validation_pred_one_hot)\n",
    "#     # Occasionally print the current loss.\n",
    "#     print(\"  period %02d : %0.2f\" % (period, validation_log_loss))\n",
    "#     # Add the loss metrics from this period to our list.\n",
    "#     training_errors.append(training_log_loss)\n",
    "#     validation_errors.append(validation_log_loss)\n",
    "\n",
    "# print(\"Model training finished.\")\n",
    "# # Calculate final predictions (not probabilities, as above).\n",
    "# final_predictions = model.predict(input_fn=predict_eval_input_fn)\n",
    "# final_predictions = np.array([item for item in final_predictions])\n",
    "\n",
    "\n",
    "# accuracy = metrics.accuracy_score(eval_labels, final_predictions)\n",
    "# print(\"Final accuracy (on validation data): %0.2f\" % accuracy)\n",
    "\n",
    "# # Output a graph of loss metrics over periods.\n",
    "# plt.ylabel(\"LogLoss\")\n",
    "# plt.xlabel(\"Periods\")\n",
    "# plt.title(\"LogLoss vs. Periods\")\n",
    "# plt.plot(training_errors, label=\"training\")\n",
    "# plt.plot(validation_errors, label=\"validation\")\n",
    "# plt.legend()\n",
    "# plt.show()"
   ]
  },
  {
   "cell_type": "code",
   "execution_count": 38,
   "metadata": {},
   "outputs": [],
   "source": [
    "# sample_data, sample_labels = parse_labels_and_features(df_sample)\n",
    "# sample_labels = np.asarray(sample_labels, dtype=np.int32)\n",
    "# df_test = np.asarray(df_test, dtype=np.float64)"
   ]
  },
  {
   "cell_type": "code",
   "execution_count": 39,
   "metadata": {},
   "outputs": [],
   "source": [
    "# model = train_cnn_classification_model\n",
    "\n",
    "# # Define the input function for evaluating\n",
    "# test_input_fn = tf.estimator.inputs.numpy_input_fn(\n",
    "#     x = {'images': df_test},\n",
    "#     y=sample_labels,\n",
    "#     batch_size=batch_size,\n",
    "#     shuffle=False\n",
    "# )\n",
    "\n",
    "# test_predictions = model.predict(test_input_fn)\n",
    "# test_predictions = np.array([item for item in test_predictions])\n",
    "\n",
    "# test_predictions"
   ]
  },
  {
   "cell_type": "code",
   "execution_count": 40,
   "metadata": {},
   "outputs": [],
   "source": [
    "# my_submission = pd.DataFrame({'ImageId': df_sample.ImageId, 'Label': test_predictions})\n",
    "# # you could use any filename. We choose submission here\n",
    "# my_submission.to_csv('submission6.csv', index=False)\n"
   ]
  },
  {
   "cell_type": "code",
   "execution_count": null,
   "metadata": {},
   "outputs": [],
   "source": []
  },
  {
   "cell_type": "code",
   "execution_count": null,
   "metadata": {},
   "outputs": [],
   "source": []
  }
 ],
 "metadata": {
  "kernelspec": {
   "display_name": "Python 3",
   "language": "python",
   "name": "python3"
  },
  "language_info": {
   "codemirror_mode": {
    "name": "ipython",
    "version": 3
   },
   "file_extension": ".py",
   "mimetype": "text/x-python",
   "name": "python",
   "nbconvert_exporter": "python",
   "pygments_lexer": "ipython3",
   "version": "3.5.5"
  }
 },
 "nbformat": 4,
 "nbformat_minor": 2
}
